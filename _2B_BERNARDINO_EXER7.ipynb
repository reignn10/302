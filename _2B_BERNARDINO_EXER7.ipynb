{
  "nbformat": 4,
  "nbformat_minor": 0,
  "metadata": {
    "colab": {
      "provenance": [],
      "authorship_tag": "ABX9TyObTwfEmBBUGxDoBoQTl4Wl",
      "include_colab_link": true
    },
    "kernelspec": {
      "name": "python3",
      "display_name": "Python 3"
    },
    "language_info": {
      "name": "python"
    }
  },
  "cells": [
    {
      "cell_type": "markdown",
      "metadata": {
        "id": "view-in-github",
        "colab_type": "text"
      },
      "source": [
        "<a href=\"https://colab.research.google.com/github/reignn10/302/blob/main/_2B_BERNARDINO_EXER7.ipynb\" target=\"_parent\"><img src=\"https://colab.research.google.com/assets/colab-badge.svg\" alt=\"Open In Colab\"/></a>"
      ]
    },
    {
      "cell_type": "code",
      "execution_count": null,
      "metadata": {
        "id": "8TLtJfL1mYPG"
      },
      "outputs": [],
      "source": [
        "import pandas as pd\n",
        "import numpy as np\n",
        "from sklearn.model_selection import train_test_split\n",
        "from sklearn.linear_model import LinearRegression, LogisticRegression\n",
        "from sklearn.metrics import accuracy_score, confusion_matrix, classification_report, mean_squared_error\n",
        "from sklearn.preprocessing import StandardScaler\n"
      ]
    },
    {
      "cell_type": "code",
      "source": [
        "data = pd.read_csv('Netflix_Userbase.csv')\n",
        "data['Join Date'] = pd.to_datetime(data['Join Date'])\n",
        "data['Last Payment Date'] = pd.to_datetime(data['Last Payment Date'])"
      ],
      "metadata": {
        "id": "30DiGgCpein8"
      },
      "execution_count": null,
      "outputs": []
    },
    {
      "cell_type": "code",
      "source": [
        "data_dummies = pd.get_dummies(data, columns=['Subscription Type', 'Country', 'Gender', 'Device'])\n"
      ],
      "metadata": {
        "id": "rUg8-I6pmrHb"
      },
      "execution_count": null,
      "outputs": []
    },
    {
      "cell_type": "code",
      "source": [
        "X_linear = data_dummies[['Age', 'Monthly Revenue']]\n",
        "y_linear = data_dummies['Monthly Revenue']\n",
        "X_train_linear, X_test_linear, y_train_linear, y_test_linear = train_test_split(X_linear, y_linear, test_size=0.2, random_state=42)\n",
        "\n"
      ],
      "metadata": {
        "id": "oeGWyeCxZ0Fl"
      },
      "execution_count": null,
      "outputs": []
    },
    {
      "cell_type": "code",
      "source": [
        "scaler_linear = StandardScaler()\n",
        "X_train_linear_scaled = scaler_linear.fit_transform(X_train_linear)\n",
        "X_test_linear_scaled = scaler_linear.transform(X_test_linear)\n"
      ],
      "metadata": {
        "id": "NJgun5HJYof0"
      },
      "execution_count": null,
      "outputs": []
    },
    {
      "cell_type": "code",
      "source": [
        "linear_model = LinearRegression()\n",
        "linear_model.fit(X_train_linear_scaled, y_train_linear)\n",
        "y_pred_linear = linear_model.predict(X_test_linear_scaled)\n"
      ],
      "metadata": {
        "id": "vK_ShVACmrO6"
      },
      "execution_count": null,
      "outputs": []
    },
    {
      "cell_type": "code",
      "source": [
        "X_logistic = data_dummies[['Age']]\n",
        "y_logistic = (data['Age'] < 40).astype(int)  # Creating a proxy for feedback based on age\n",
        "X_train_logistic, X_test_logistic, y_train_logistic, y_test_logistic = train_test_split(X_logistic, y_logistic, test_size=0.2, random_state=42)\n"
      ],
      "metadata": {
        "id": "xFLjbyzogJmW"
      },
      "execution_count": null,
      "outputs": []
    },
    {
      "cell_type": "code",
      "source": [
        "logistic_model = LogisticRegression()\n",
        "logistic_model.fit(X_train_logistic, y_train_logistic)\n",
        "y_pred_logistic = logistic_model.predict(X_test_logistic)\n",
        "\n"
      ],
      "metadata": {
        "id": "216jqwIYmrSD"
      },
      "execution_count": null,
      "outputs": []
    },
    {
      "cell_type": "code",
      "source": [
        "mse = mean_squared_error(y_test_linear, y_pred_linear)\n",
        "print(f\"Linear Regression Mean Squared Error: {mse}\")\n"
      ],
      "metadata": {
        "colab": {
          "base_uri": "https://localhost:8080/"
        },
        "id": "G26113AOgSwx",
        "outputId": "f6479e13-657f-4a52-f3e8-7a664ad1ca9c"
      },
      "execution_count": null,
      "outputs": [
        {
          "output_type": "stream",
          "name": "stdout",
          "text": [
            "Linear Regression Mean Squared Error: 5.3200779448105034e-30\n"
          ]
        }
      ]
    },
    {
      "cell_type": "code",
      "source": [
        "accuracy = accuracy_score(y_test_logistic, y_pred_logistic)\n",
        "conf_matrix = confusion_matrix(y_test_logistic, y_pred_logistic)\n",
        "class_report = classification_report(y_test_logistic, y_pred_logistic)\n",
        "\n",
        "print(f\"Logistic Regression Accuracy: {accuracy}\")\n",
        "print(\"Confusion Matrix:\")\n",
        "print(conf_matrix)\n",
        "print(\"Classification Report:\")\n",
        "print(class_report)"
      ],
      "metadata": {
        "colab": {
          "base_uri": "https://localhost:8080/"
        },
        "id": "ZrMDLIFWgS3b",
        "outputId": "469f4bf0-81be-4c8d-bea8-c1773bfce144"
      },
      "execution_count": null,
      "outputs": [
        {
          "output_type": "stream",
          "name": "stdout",
          "text": [
            "Logistic Regression Accuracy: 1.0\n",
            "Confusion Matrix:\n",
            "[[235   0]\n",
            " [  0 265]]\n",
            "Classification Report:\n",
            "              precision    recall  f1-score   support\n",
            "\n",
            "           0       1.00      1.00      1.00       235\n",
            "           1       1.00      1.00      1.00       265\n",
            "\n",
            "    accuracy                           1.00       500\n",
            "   macro avg       1.00      1.00      1.00       500\n",
            "weighted avg       1.00      1.00      1.00       500\n",
            "\n"
          ]
        }
      ]
    }
  ]
}